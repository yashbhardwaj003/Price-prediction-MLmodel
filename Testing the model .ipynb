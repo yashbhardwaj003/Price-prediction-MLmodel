{
 "cells": [
  {
   "cell_type": "markdown",
   "id": "3ccdd046",
   "metadata": {},
   "source": [
    "# Testing the model which we have created"
   ]
  },
  {
   "cell_type": "code",
   "execution_count": null,
   "id": "cc4cf2e5",
   "metadata": {},
   "outputs": [],
   "source": [
    "X_test = strat_test_set.drop(\"MEDV\",axis=1)\n",
    "Y_test = strat_test_set[\"MEDV\"].copy()\n",
    "X_test_prepared = my_pipeline.transform(X_test)\n",
    "final_predictions = model.predict(X_test_prepared)\n",
    "final_mse = mean_squared_error(Y_test,final_predictions)\n",
    "final_rmse = np.sqrt(final_mse)  "
   ]
  },
  {
   "cell_type": "code",
   "execution_count": null,
   "id": "c3a7348a",
   "metadata": {},
   "outputs": [],
   "source": [
    "final_rmse"
   ]
  }
 ],
 "metadata": {
  "kernelspec": {
   "display_name": "Python 3 (ipykernel)",
   "language": "python",
   "name": "python3"
  },
  "language_info": {
   "codemirror_mode": {
    "name": "ipython",
    "version": 3
   },
   "file_extension": ".py",
   "mimetype": "text/x-python",
   "name": "python",
   "nbconvert_exporter": "python",
   "pygments_lexer": "ipython3",
   "version": "3.10.9"
  }
 },
 "nbformat": 4,
 "nbformat_minor": 5
}
